{
  "nbformat": 4,
  "nbformat_minor": 0,
  "metadata": {
    "colab": {
      "provenance": []
    },
    "kernelspec": {
      "name": "python3",
      "display_name": "Python 3"
    },
    "language_info": {
      "name": "python"
    }
  },
  "cells": [
    {
      "cell_type": "markdown",
      "source": [
        "# 🧠 Self-Attention Mechanism in Transformers\n",
        "\n",
        "Self-attention is the key innovation behind the Transformer model. It allows the model to **dynamically focus on different parts of the input sequence** when processing each token.\n",
        "\n",
        "This mechanism lets a word \"look at\" other words in the sentence and decide which ones are important — based on *context*.\n",
        "\n",
        "We'll break it down both **conceptually and mathematically** in this notebook.\n"
      ],
      "metadata": {
        "id": "EOmAM0ID6REI"
      }
    },
    {
      "cell_type": "markdown",
      "source": [
        "## 🔍 What Is Self-Attention?\n",
        "\n",
        "Self-attention is a way for a model to **assign importance scores** to other tokens in the input sequence while processing a specific token.\n",
        "\n",
        "It answers this question:\n",
        "> “While processing this word, what other words should I pay attention to?”\n",
        "\n",
        "For example:\n",
        "- In the sentence: \"The cat sat on the mat because it was tired.\"\n",
        "- \"it\" should attend more to \"cat\" than to \"mat\" — **self-attention helps models learn this automatically.**\n"
      ],
      "metadata": {
        "id": "kpG9QIbM6hzt"
      }
    },
    {
      "cell_type": "markdown",
      "source": [
        "## 🧠 Why Is Self-Attention Powerful?\n",
        "\n",
        "- It allows **parallel processing** (unlike RNNs)\n",
        "- It captures **context and relationships** between all words — even far apart ones\n",
        "- It can **adapt dynamically** depending on the input sentence\n"
      ],
      "metadata": {
        "id": "IdQX1_Ev664w"
      }
    },
    {
      "cell_type": "markdown",
      "source": [
        "## 🧾 How Self-Attention Works: Step-by-Step\n",
        "\n",
        "Let’s say we have 3 words: `[\"I\", \"love\", \"GenAI\"]`\n",
        "\n",
        "Each word is first converted into an embedding (a vector).\n",
        "\n",
        "Then for each word:\n",
        "1. We create 3 vectors: **Query (Q)**, **Key (K)**, and **Value (V)**  \n",
        "   - All are learned during training using linear layers.\n",
        "   \n",
        "2. We compute attention **scores** by taking the dot product of the Query of the current word with the Keys of all words (including itself).\n",
        "\n",
        "3. These scores are **scaled** (divided by √d) to stabilize gradients.\n",
        "\n",
        "4. We apply **softmax** to turn scores into probabilities.\n",
        "\n",
        "5. We compute a **weighted sum of Value vectors**, using those probabilities.\n",
        "\n",
        "That result is the **new representation** of the current word — *now it “knows” which other words were important*.\n"
      ],
      "metadata": {
        "id": "zki2RkjQ7WYr"
      }
    },
    {
      "cell_type": "markdown",
      "source": [
        "## 🧮 Self-Attention: Mathematical Formula\n",
        "\n",
        "Let:\n",
        "- X = Input matrix (n tokens × d model)\n",
        "- W<sub>Q</sub>, W<sub>K</sub>, W<sub>V</sub> = learned weight matrices for Query, Key, and Value\n",
        "\n",
        "Then:\n",
        "- Q = X × W<sub>Q</sub>  \n",
        "- K = X × W<sub>K</sub>  \n",
        "- V = X × W<sub>V</sub>\n",
        "\n",
        "### Attention Formula:\n",
        "\n",
        "Attention(Q, K, V) = softmax(Q × Kᵀ / √d<sub>k</sub>) × V\n",
        "\n",
        "\n",
        "Where:\n",
        "- Q × Kᵀ gives us similarity between tokens\n",
        "- Scaling by √d<sub>k</sub> prevents exploding gradients\n",
        "- softmax turns scores into weights\n",
        "- multiplying with V gives the weighted representation\n"
      ],
      "metadata": {
        "id": "NcfXNepa7nrw"
      }
    },
    {
      "cell_type": "code",
      "source": [
        "import numpy as np\n",
        "\n",
        "# Step 1: Define dummy Q, K, V for 3 tokens (dimension = 3)\n",
        "Q = np.array([[1, 0, 1],    # token 1\n",
        "              [0, 1, 0],    # token 2\n",
        "              [1, 1, 0]])   # token 3\n",
        "\n",
        "K = np.array([[1, 0, 1],\n",
        "              [0, 1, 0],\n",
        "              [1, 1, 0]])\n",
        "\n",
        "V = np.array([[0.1, 0.0, 0.3],\n",
        "              [0.0, 0.2, 0.0],\n",
        "              [0.3, 0.1, 0.4]])\n",
        "\n",
        "print(\"Q:\\n\", Q)\n",
        "print(\"K:\\n\", K)\n",
        "print(\"V:\\n\", V)\n"
      ],
      "metadata": {
        "id": "JOWY5LAewLWy",
        "colab": {
          "base_uri": "https://localhost:8080/"
        },
        "outputId": "62f1ff93-89d3-4480-f079-ad389ed00e89"
      },
      "execution_count": 1,
      "outputs": [
        {
          "output_type": "stream",
          "name": "stdout",
          "text": [
            "Q:\n",
            " [[1 0 1]\n",
            " [0 1 0]\n",
            " [1 1 0]]\n",
            "K:\n",
            " [[1 0 1]\n",
            " [0 1 0]\n",
            " [1 1 0]]\n",
            "V:\n",
            " [[0.1 0.  0.3]\n",
            " [0.  0.2 0. ]\n",
            " [0.3 0.1 0.4]]\n"
          ]
        }
      ]
    },
    {
      "cell_type": "code",
      "source": [
        "# Step 2: Compute raw attention scores = Q @ K.T\n",
        "scores = Q @ K.T\n",
        "print(\"Raw Attention Scores:\\n\", scores)\n"
      ],
      "metadata": {
        "colab": {
          "base_uri": "https://localhost:8080/"
        },
        "id": "9SygfRQ28MPA",
        "outputId": "b9ac2647-c752-41b4-dcec-b0b3b3259556"
      },
      "execution_count": 2,
      "outputs": [
        {
          "output_type": "stream",
          "name": "stdout",
          "text": [
            "Raw Attention Scores:\n",
            " [[2 0 1]\n",
            " [0 1 1]\n",
            " [1 1 2]]\n"
          ]
        }
      ]
    },
    {
      "cell_type": "markdown",
      "source": [
        "📌 Each element scores[i][j] is the dot product between the Query of token i and Key of token j."
      ],
      "metadata": {
        "id": "iwCXDYruAclA"
      }
    },
    {
      "cell_type": "markdown",
      "source": [
        "## Scale the scores"
      ],
      "metadata": {
        "id": "8XdgCl4PAhAS"
      }
    },
    {
      "cell_type": "code",
      "source": [
        "# Step 3: Scale by sqrt(dk)\n",
        "dk = Q.shape[1]  # dimension of key/query vectors\n",
        "scaled_scores = scores / np.sqrt(dk)\n",
        "print(\"Scaled Scores:\\n\", scaled_scores)\n"
      ],
      "metadata": {
        "colab": {
          "base_uri": "https://localhost:8080/"
        },
        "id": "kuIr96TAAWm6",
        "outputId": "bb5063c7-14c3-4219-a7ad-77848d9818c0"
      },
      "execution_count": 3,
      "outputs": [
        {
          "output_type": "stream",
          "name": "stdout",
          "text": [
            "Scaled Scores:\n",
            " [[1.15470054 0.         0.57735027]\n",
            " [0.         0.57735027 0.57735027]\n",
            " [0.57735027 0.57735027 1.15470054]]\n"
          ]
        }
      ]
    },
    {
      "cell_type": "markdown",
      "source": [
        "##Applying Softmax and getting weights"
      ],
      "metadata": {
        "id": "XtG3h1JSAn6f"
      }
    },
    {
      "cell_type": "code",
      "source": [
        "# Step 4: Apply softmax to each row\n",
        "def softmax(x):\n",
        "    exp_x = np.exp(x - np.max(x))  # numerical stability\n",
        "    return exp_x / np.sum(exp_x)\n",
        "\n",
        "attention_weights = np.apply_along_axis(softmax, 1, scaled_scores)\n",
        "print(\"Attention Weights:\\n\", attention_weights)\n"
      ],
      "metadata": {
        "id": "pmYqxvKfAkk5",
        "outputId": "69d94430-f71d-4542-d912-241e2c51b0e1",
        "colab": {
          "base_uri": "https://localhost:8080/"
        }
      },
      "execution_count": 4,
      "outputs": [
        {
          "output_type": "stream",
          "name": "stdout",
          "text": [
            "Attention Weights:\n",
            " [[0.53289684 0.16794345 0.29915971]\n",
            " [0.21917211 0.39041395 0.39041395]\n",
            " [0.26445846 0.26445846 0.47108308]]\n"
          ]
        }
      ]
    },
    {
      "cell_type": "markdown",
      "source": [
        "## weighted sum of values"
      ],
      "metadata": {
        "id": "O9ESi1tDAzWA"
      }
    },
    {
      "cell_type": "code",
      "source": [
        "# Step 5: Compute output = attention_weights @ V\n",
        "output = attention_weights @ V\n",
        "print(\"Final Output Vectors:\\n\", output)\n"
      ],
      "metadata": {
        "id": "Ran27nVdArQZ",
        "outputId": "47c498cf-2d7c-4b9d-9bce-035d3dc48e49",
        "colab": {
          "base_uri": "https://localhost:8080/"
        }
      },
      "execution_count": 5,
      "outputs": [
        {
          "output_type": "stream",
          "name": "stdout",
          "text": [
            "Final Output Vectors:\n",
            " [[0.1430376  0.06350466 0.27953294]\n",
            " [0.13904139 0.11712418 0.22191721]\n",
            " [0.16777077 0.1        0.26777077]]\n"
          ]
        }
      ]
    },
    {
      "cell_type": "markdown",
      "source": [
        "#What This Shows\n",
        "For each token, we now have a contextualized vector — based on how much attention it paid to other tokens.\n",
        "\n",
        "Example:\n",
        "\n",
        "If token 1 gave high attention to token 2, it will reflect more of token 2’s V vector in its output.\n",
        "\n",
        "This is how self-attention helps encode relationships and context into the embeddings."
      ],
      "metadata": {
        "id": "zdULJqIGA_SN"
      }
    },
    {
      "cell_type": "code",
      "source": [
        "import seaborn as sns\n",
        "import matplotlib.pyplot as plt\n",
        "\n",
        "# Step 6: Plot attention weights heatmap\n",
        "plt.figure(figsize=(6, 4))\n",
        "sns.heatmap(attention_weights, annot=True, cmap='viridis', xticklabels=['Token 1', 'Token 2', 'Token 3'], yticklabels=['Token 1', 'Token 2', 'Token 3'])\n",
        "plt.title(\"Self-Attention Weights Heatmap\")\n",
        "plt.xlabel(\"Key Tokens\")\n",
        "plt.ylabel(\"Query Tokens\")\n",
        "plt.show()\n"
      ],
      "metadata": {
        "id": "0MJk1ek5A3Sc",
        "outputId": "610d15f2-35e8-4791-dc40-c9db93b64769",
        "colab": {
          "base_uri": "https://localhost:8080/",
          "height": 410
        }
      },
      "execution_count": 6,
      "outputs": [
        {
          "output_type": "display_data",
          "data": {
            "text/plain": [
              "<Figure size 600x400 with 2 Axes>"
            ],
            "image/png": "[encoded data removed]"
          },
          "metadata": {}
        }
      ]
    },
    {
      "cell_type": "markdown",
      "source": [
        " Here Each row represents a Query token (the token we're updating).\n",
        "\n",
        "Each column represents a Key token (the token it's attending to).\n",
        "\n",
        "The values in the heatmap are the attention weights (how much attention is paid).\n",
        "\n",
        "For example, if cell (1, 2) has a high value, that means Token 1 is focusing strongly on Token 2.\n",
        "\n",
        "This dynamic weighting allows each token to gather context from others — making transformers very powerful.\n",
        "\n"
      ],
      "metadata": {
        "id": "LsopQWllBrFq"
      }
    },
    {
      "cell_type": "code",
      "source": [],
      "metadata": {
        "id": "-gm1RivaBdpz"
      },
      "execution_count": null,
      "outputs": []
    }
  ]
}