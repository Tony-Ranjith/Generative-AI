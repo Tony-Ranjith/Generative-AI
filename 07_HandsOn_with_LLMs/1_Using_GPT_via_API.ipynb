{
  "nbformat": 4,
  "nbformat_minor": 0,
  "metadata": {
    "colab": {
      "provenance": []
    },
    "kernelspec": {
      "name": "python3",
      "display_name": "Python 3"
    },
    "language_info": {
      "name": "python"
    }
  },
  "cells": [
    {
      "cell_type": "markdown",
      "source": [
        "## Install and import required libraries\n"
      ],
      "metadata": {
        "id": "TyWeHdjmKMZO"
      }
    },
    {
      "cell_type": "code",
      "source": [
        "# Install Google Generative AI library\n",
        "!pip install -q google-generativeai"
      ],
      "metadata": {
        "id": "E094ZMm4GXv4"
      },
      "execution_count": 3,
      "outputs": []
    },
    {
      "cell_type": "code",
      "source": [
        "# Import required libraries\n",
        "import google.generativeai as genai\n",
        "import os"
      ],
      "metadata": {
        "id": "Io4yVaX9KbbT"
      },
      "execution_count": 4,
      "outputs": []
    },
    {
      "cell_type": "markdown",
      "source": [
        "## Set Up Gemini API Key"
      ],
      "metadata": {
        "id": "5tMCYeX6N53p"
      }
    },
    {
      "cell_type": "code",
      "source": [
        "# Set your API Key (you can get one from https://makersuite.google.com/app/apikey)\n",
        "GOOGLE_API_KEY = \"Your API Key\"  # Replace with your actual API key\n",
        "genai.configure(api_key=GOOGLE_API_KEY)"
      ],
      "metadata": {
        "id": "oo4NMik1Kko2"
      },
      "execution_count": 12,
      "outputs": []
    },
    {
      "cell_type": "markdown",
      "source": [
        "## Initialize Gemini Model"
      ],
      "metadata": {
        "id": "9vee4I2eN05u"
      }
    },
    {
      "cell_type": "code",
      "source": [
        "# Load a valid Gemini model that supports generate_content (e.g., gemini-1.5-flash-latest)\n",
        "model = genai.GenerativeModel(\"gemini-1.5-flash-latest\")\n",
        "\n",
        "# Optional: List available models to see which ones support generateContent\n",
        "# for m in genai.list_models():\n",
        "#   if 'generateContent' in m.supported_generation_methods:\n",
        "#     print(m.name)"
      ],
      "metadata": {
        "id": "7aGLTEpCKxSH"
      },
      "execution_count": 15,
      "outputs": []
    },
    {
      "cell_type": "markdown",
      "source": [
        "## Basic Prompt"
      ],
      "metadata": {
        "id": "ZfodsIClNulq"
      }
    },
    {
      "cell_type": "code",
      "source": [
        "response = model.generate_content(\"Explain transformers in simple terms.\")\n",
        "print(response.text)"
      ],
      "metadata": {
        "colab": {
          "base_uri": "https://localhost:8080/",
          "height": 219
        },
        "id": "npijw9uwK437",
        "outputId": "d1ae1929-44ca-4cdd-c13f-655f2baae25e"
      },
      "execution_count": 16,
      "outputs": [
        {
          "output_type": "stream",
          "name": "stdout",
          "text": [
            "Imagine you have a box of LEGO bricks, all jumbled up.  You want to build a specific LEGO castle.  Instead of sorting through the bricks one by one, a transformer helps you quickly find the pieces you need.\n",
            "\n",
            "A transformer, in the context of machine learning, is a type of neural network that does something similar. It takes a jumbled-up input (like a sentence or an image) and figures out which parts are important and how they relate to each other. It does this using a clever mechanism called \"attention,\" which lets it focus on the most relevant parts of the input.\n",
            "\n",
            "Think of \"attention\" as a spotlight shining on different parts of the LEGO box.  The transformer decides which bricks are most important for building the castle (e.g., the towers, the walls) and pays more attention to those.\n",
            "\n",
            "The transformer then uses this information to create a structured output, like a translation of the sentence or a description of the image. It's much faster and more efficient than older methods because it can process the entire input at once instead of piece by piece.\n",
            "\n",
            "So, in short:  Transformers are powerful machine learning models that use \"attention\" to quickly understand and process complex inputs like text and images, producing more accurate and efficient results.\n",
            "\n"
          ]
        }
      ]
    },
    {
      "cell_type": "markdown",
      "source": [
        "## Multi Turn Conversation Example"
      ],
      "metadata": {
        "id": "HELDMo2tMnLm"
      }
    },
    {
      "cell_type": "code",
      "source": [
        "chat = model.start_chat(history=[])\n",
        "\n",
        "# User Message 1\n",
        "chat.send_message(\"Who won the 2011 cricket world cup?\")\n",
        "# User Message 2\n",
        "response = chat.send_message(\"Who was the captain?\")\n",
        "print(response.text)\n"
      ],
      "metadata": {
        "colab": {
          "base_uri": "https://localhost:8080/",
          "height": 53
        },
        "id": "_VEMMeY_K-P6",
        "outputId": "511f9db6-f25e-41c3-83de-3efa7f8880aa"
      },
      "execution_count": 17,
      "outputs": [
        {
          "output_type": "stream",
          "name": "stdout",
          "text": [
            "MS Dhoni was the captain of the Indian team that won the 2011 Cricket World Cup.\n",
            "\n"
          ]
        }
      ]
    },
    {
      "cell_type": "markdown",
      "source": [
        "## Generate Text From A custom Task"
      ],
      "metadata": {
        "id": "aMnKe5zwM5WA"
      }
    },
    {
      "cell_type": "code",
      "source": [
        "prompt = \"\"\"\n",
        "You are a resume writing assistant. Rewrite this sentence to sound more professional:\n",
        "'I did data cleaning and made graphs in Python.'\n",
        "\"\"\"\n",
        "response = model.generate_content(prompt)\n",
        "print(response.text)\n",
        "\n"
      ],
      "metadata": {
        "colab": {
          "base_uri": "https://localhost:8080/",
          "height": 219
        },
        "id": "WVImEzc3Mv07",
        "outputId": "4118a0f3-a5bc-45b1-ccac-c96046cc6d84"
      },
      "execution_count": 18,
      "outputs": [
        {
          "output_type": "stream",
          "name": "stdout",
          "text": [
            "Here are a few options, each with a slightly different emphasis:\n",
            "\n",
            "* **Option 1 (Focus on skills):** \"Utilized Python for data cleaning and visualization.\"\n",
            "* **Option 2 (Focus on action & results):** \"Performed data cleaning and generated visualizations using Python.\"\n",
            "* **Option 3 (More detail-oriented, requires context):** \"Cleaned and prepared datasets using Python, subsequently creating visualizations to illustrate key trends.\"\n",
            "* **Option 4 (If specific libraries were used):** \"Leveraged Python (including [libraries used, e.g., Pandas, Matplotlib]) for data cleaning and visualization.\"\n",
            "\n",
            "\n",
            "The best option will depend on the overall tone and focus of the resume.  If possible, quantify your accomplishments (e.g., \"Cleaned and prepared datasets of X size resulting in Y improvement\").\n",
            "\n"
          ]
        }
      ]
    },
    {
      "cell_type": "markdown",
      "source": [
        "##Wrap it in a Simple Reusable Function"
      ],
      "metadata": {
        "id": "Z74WkJy5NLpm"
      }
    },
    {
      "cell_type": "code",
      "source": [
        "def ask_gemini(prompt):\n",
        "    response = model.generate_content(prompt)\n",
        "    return response.text\n",
        "\n",
        "# Try it out\n",
        "ask_gemini(\"Suggest a good project idea for GenAI beginners.\")\n"
      ],
      "metadata": {
        "colab": {
          "base_uri": "https://localhost:8080/",
          "height": 127
        },
        "id": "pswhPypZM_9h",
        "outputId": "f0a73d8f-4505-45e3-83c1-c8f320366a0f"
      },
      "execution_count": 19,
      "outputs": [
        {
          "output_type": "execute_result",
          "data": {
            "text/plain": [
              "'A good GenAI project for beginners should be manageable in scope, teach fundamental concepts, and be fun. Here are a few suggestions, categorized by skill level and focus:\\n\\n**Beginner-Friendly (Minimal Coding Required):**\\n\\n* **Interactive Story Generator:** Use a platform like GPT-3 Playground or a similar API to create a simple text-based adventure game.  The user provides input (e.g., \"go north,\" \"attack the dragon\"), and the AI generates the next scene. This teaches you about prompt engineering and how to guide the AI\\'s output.  You can even use a no-code platform to build a simple user interface.\\n\\n* **Personalized Poetry Generator:**  Fine-tune a pre-trained model (or use a readily available API) to generate poems in a specific style (haiku, limerick, free verse) based on user input (e.g., a keyword, a feeling). This focuses on understanding how to tailor the AI\\'s output and explore different creative applications.\\n\\n* **Simple Chatbot:**  Build a very basic chatbot using a platform like Dialogflow or a similar tool. Focus on defining intents and entities to handle a limited number of user queries.  This introduces you to the world of conversational AI and natural language understanding.\\n\\n**Intermediate (Some Coding Required – Python recommended):**\\n\\n* **Image Caption Generator:** Use a pre-trained model (like CLIP or similar) and a Python library (like transformers) to generate captions for images.  This combines image processing and natural language processing, teaching you about working with different AI model types.\\n\\n* **Sentiment Analysis Tool:**  Build a tool that analyzes the sentiment (positive, negative, neutral) of text using a pre-trained sentiment analysis model and a Python library.  This introduces you to text classification and the application of AI in understanding opinions.\\n\\n* **Summarization Tool:** Create a program that summarizes news articles or other text using a pre-trained summarization model.  This involves working with longer text inputs and outputting concise summaries, teaching you about text manipulation and model selection.\\n\\n\\n**Tips for Success:**\\n\\n* **Start Small:** Don\\'t try to build the next ChatGPT. Focus on a very specific, well-defined task.\\n* **Use Pre-trained Models:** Leverage the work of others by using readily available models and APIs.  This saves you a lot of time and computational resources.\\n* **Focus on Prompt Engineering:**  A large part of working with GenAI is learning how to effectively prompt the model to get the desired output.\\n* **Iterate and Experiment:** Don\\'t be afraid to try different approaches and refine your approach based on the results.\\n* **Utilize Online Resources:** There are tons of tutorials, documentation, and communities dedicated to GenAI.\\n\\n\\nRemember to choose a project that aligns with your interests and skill level.  The most important thing is to get started and have fun learning!\\n'"
            ],
            "application/vnd.google.colaboratory.intrinsic+json": {
              "type": "string"
            }
          },
          "metadata": {},
          "execution_count": 19
        }
      ]
    },
    {
      "cell_type": "markdown",
      "source": [
        "## 🧠 Summary:\n",
        "- We learned how to use Google’s Gemini API as an LLM interface.\n",
        "- We tested one-shot and multi-turn conversation examples.\n",
        "- This allows us to build GenAI apps for free without needing OpenAI access.\n",
        "\n",
        "\n"
      ],
      "metadata": {
        "id": "gt75os1SNl2i"
      }
    },
    {
      "cell_type": "code",
      "source": [],
      "metadata": {
        "id": "7hg_zNIRNUmn"
      },
      "execution_count": null,
      "outputs": []
    }
  ]
}